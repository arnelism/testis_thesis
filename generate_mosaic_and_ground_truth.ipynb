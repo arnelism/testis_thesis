{
 "cells": [
  {
   "cell_type": "code",
   "execution_count": null,
   "outputs": [],
   "source": [
    "# generates inference slides and ground truth from the slides and annotations\n",
    "# inference slides will be used by the trained model to generate predictions, which can then be compared with the ground truth\n",
    "\n",
    "# note to self. can we use the same ground truth slide combiner for both inference and prediction slides? (check __debug_inf.ipynb)\n",
    "\n",
    "from script3_inference import get_slices, join_pieces\n",
    "from slide_utils import load_annotations, get_slide_offset, Bounds\n",
    "import shutil\n",
    "from settings import load_env\n",
    "import os\n",
    "from openslide import open_slide\n",
    "\n",
    "\n",
    "os.environ['overrides'] = '__local.env'\n",
    "load_env()\n",
    "\n",
    "\n",
    "def generate_and_save_inference_slides(slide_name, region_name,  level, overlap):\n",
    "    slidefile = os.environ.get(f'slidefile_{slide_name}')\n",
    "    annotationsfile = os.environ[f\"annotations_{slide_name}\"]\n",
    "\n",
    "    slide = open_slide(slidefile)\n",
    "    print(f\"Loaded slidefile {slidefile}\")\n",
    "\n",
    "    annotations = load_annotations(annotationsfile, get_slide_offset(slide))\n",
    "    print(f\"Loaded annotations: filename={annotationsfile}, outsides={len(annotations.outsides)}, insides={len(annotations.insides)}\")\n",
    "\n",
    "    region = annotations.regions[region_name]\n",
    "    bounds = Bounds(\n",
    "        topleft=region[0],\n",
    "        topright=region[1],\n",
    "        bottomleft=region[3],\n",
    "        bottomright=region[2],\n",
    "        zoom_level=level,\n",
    "    )\n",
    "    print(bounds)\n",
    "\n",
    "    print(f\"Getting slices from {slide_name}/{region_name}. size={bounds.get_size()}, level={level}, overlap={overlap}\")\n",
    "    pieces = get_slices(slide, bounds, level, overlap)\n",
    "    print(f\"got slices: {len(pieces[0])} x {len(pieces[1])}\")\n",
    "\n",
    "\n",
    "    # save pieces to disk\n",
    "\n",
    "    target = f\"{os.environ.get('inference_slides')}/{slide_name}/lvl{level}_overlap{int(overlap*100)}\"\n",
    "    print(f\"Saving {len(pieces) * len(pieces[1])} pieces to {target}\")\n",
    "\n",
    "    if os.path.exists(target):\n",
    "        print(\"Folder already exists, removing it\")\n",
    "        shutil.rmtree(target)\n",
    "\n",
    "    os.makedirs(target)\n",
    "\n",
    "    for row in range(len(pieces)):\n",
    "        print(\".\", end=\"\")\n",
    "        for col in range(len(pieces[row])):\n",
    "            filename = f\"{target}/row{row}_col{col}_orig.png\"\n",
    "            pieces[row][col].save(filename)\n",
    "\n",
    "    print(\" Done!\")\n",
    "\n",
    "    original = join_pieces(pieces, overlap, True, bounds.get_size())\n",
    "    original.thumbnail((1024, 1024))\n",
    "    original.save(f\"{os.environ.get('inference_slides')}/{slide_name}/lvl{level}_overlap{int(overlap*100)}_preview.png\")\n"
   ],
   "metadata": {
    "collapsed": false
   }
  },
  {
   "cell_type": "code",
   "execution_count": null,
   "outputs": [],
   "source": [
    "# slide_name = 'beta'\n",
    "# region_name = 'Test Region C'\n",
    "#\n",
    "# generate_and_save_inference_slides(slide_name, region_name, 1, 0.5)\n",
    "# generate_and_save_inference_slides(slide_name, region_name, 1, 0.25)\n",
    "# generate_and_save_inference_slides(slide_name, region_name, 2, 0.5)\n",
    "# generate_and_save_inference_slides(slide_name, region_name, 2, 0.25)\n",
    "#\n",
    "\n",
    "\n",
    "slide_name = 'gamma'\n",
    "region_name = 'Test Region Gamma2'\n",
    "\n",
    "generate_and_save_inference_slides(slide_name, region_name, 1, 0.25)\n",
    "generate_and_save_inference_slides(slide_name, region_name, 1, 0.5)\n",
    "# generate_and_save_inference_slides(slide_name, region_name, 2, 0.5)\n",
    "# generate_and_save_inference_slides(slide_name, region_name, 2, 0.25)"
   ],
   "metadata": {
    "collapsed": false
   }
  },
  {
   "cell_type": "markdown",
   "source": [
    "### Ground Truth"
   ],
   "metadata": {
    "collapsed": false
   }
  },
  {
   "cell_type": "code",
   "execution_count": null,
   "outputs": [],
   "source": [
    "import numpy as np\n",
    "from slide_utils import get_localized_polygon, draw_polygons\n",
    "from PIL import Image\n",
    "\n",
    "\n",
    "def generate_ground_truth(slide_name: str, region_name: str, level: int):\n",
    "    CH_BORDER = 0\n",
    "    CH_TUBULE = 1\n",
    "    CH_BACKGR = 2\n",
    "\n",
    "    annotations = load_annotations(os.environ.get(f'annotations_{slide_name}'), (0,0))\n",
    "    region = annotations.regions[region_name]\n",
    "\n",
    "    bounds = Bounds(\n",
    "        topleft=region[0],\n",
    "        topright=region[1],\n",
    "        bottomleft=region[3],\n",
    "        bottomright=region[2],\n",
    "        zoom_level=level,\n",
    "    )\n",
    "    img_seg = Image.new(\"RGB\", bounds.get_size())\n",
    "\n",
    "    localized_outsides = [get_localized_polygon(bounds, poly) for poly in annotations.outsides]\n",
    "    localized_insides = [get_localized_polygon(bounds, poly) for poly in annotations.insides]\n",
    "\n",
    "    draw_polygons(img_seg, localized_outsides, fill=\"red\")\n",
    "    draw_polygons(img_seg, localized_insides, fill=\"#00ff00\")\n",
    "\n",
    "    # save several versions of the generated image\n",
    "    workdir = os.environ['inference_slides']\n",
    "    save_dir = f'{workdir}/{slide_name}'\n",
    "\n",
    "    # 1-channels postprocessing output.\n",
    "    img_seg.save(f'{save_dir}/ground_truth_level{level}_postproc.png')\n",
    "\n",
    "    # 2-channel borders-only version. maybe that's all we need?\n",
    "    brdr = np.array(img_seg.copy())[:,:,CH_BORDER]\n",
    "    borders = Image.fromarray(brdr)\n",
    "    borders.save(f'{save_dir}/ground_truth_level{level}_borders.png')\n",
    "\n",
    "    # image for raw model output. add blue channel where there are no border nor tubules\n",
    "    blue_img = np.array(img_seg.copy())\n",
    "    blue_img[:,:,CH_BACKGR] = (blue_img[:,:,CH_BORDER]==0) * (blue_img[:,:,CH_TUBULE]==0) * 255\n",
    "    blue_img = Image.fromarray(blue_img)\n",
    "    blue_img.save(f'{save_dir}/ground_truth_level{level}_model.png')\n",
    "\n",
    "    return img_seg, borders, blue_img"
   ],
   "metadata": {
    "collapsed": false
   }
  },
  {
   "cell_type": "code",
   "execution_count": null,
   "outputs": [],
   "source": [
    "# generate_ground_truth('alpha', 'Test Region A', 1)\n",
    "# generate_ground_truth('alpha', 'Test Region A', 2)\n",
    "\n",
    "generate_ground_truth('beta', 'Test Region C', 1)\n",
    "generate_ground_truth('beta', 'Test Region C', 2)\n",
    "\n",
    "generate_ground_truth('gamma', 'Test Region Gamma2', 1)\n",
    "generate_ground_truth('gamma', 'Test Region Gamma2', 2)"
   ],
   "metadata": {
    "collapsed": false
   }
  }
 ],
 "metadata": {
  "kernelspec": {
   "display_name": "Python 3",
   "language": "python",
   "name": "python3"
  },
  "language_info": {
   "codemirror_mode": {
    "name": "ipython",
    "version": 2
   },
   "file_extension": ".py",
   "mimetype": "text/x-python",
   "name": "python",
   "nbconvert_exporter": "python",
   "pygments_lexer": "ipython2",
   "version": "2.7.6"
  }
 },
 "nbformat": 4,
 "nbformat_minor": 0
}
